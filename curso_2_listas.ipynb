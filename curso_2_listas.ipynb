{
  "nbformat": 4,
  "nbformat_minor": 0,
  "metadata": {
    "colab": {
      "provenance": []
    },
    "kernelspec": {
      "name": "python3",
      "display_name": "Python 3"
    },
    "language_info": {
      "name": "python"
    }
  },
  "cells": [
    {
      "cell_type": "markdown",
      "source": [
        "Segundo o site [Tech Tudo](https://www.techtudo.com.br/noticias/2022/11/10-filmes-de-acao-para-assistir-em-2022-streaming.ghtml), os 10 filmes de ação para assistir neste ano são:\n",
        "\n",
        "- O Predador: A Caçada\n",
        "- Top Gun: Maverick\n",
        "- Doutor Estranho no Multiverso da Loucura\n",
        "- RRR: Revolta, Rebelião, Revolução\n",
        "- Uncharted: Fora do Mapa\n",
        "- O Projeto Adam\n",
        "- Thor: Amor e Trovão\n",
        "- Lightyear\n",
        "- O Homem do Norte\n",
        "- Batman\n",
        "\n",
        "Que será a primeira lista."
      ],
      "metadata": {
        "id": "JsX27IhzmPNO"
      }
    },
    {
      "cell_type": "code",
      "execution_count": 1,
      "metadata": {
        "id": "vLgt_tu6mOeC"
      },
      "outputs": [],
      "source": [
        "acao_2022 = ['O Predador: A Caçada', \n",
        "               'Top Gun: Maverick', \n",
        "               'Doutor Estranho no Multiverso da Loucura', \n",
        "               'RRR: Revolta, Rebelião, Revolução', \n",
        "               'Uncharted: Fora do Mapa', \n",
        "               'O Projeto Adam', \n",
        "               'Thor: Amor e Trovão', \n",
        "               'Lightyear', \n",
        "               'O Homem do Norte']"
      ]
    },
    {
      "cell_type": "code",
      "source": [
        "acao_2022.append('Batman')"
      ],
      "metadata": {
        "id": "-QXT2L_qmegr"
      },
      "execution_count": 2,
      "outputs": []
    },
    {
      "cell_type": "code",
      "source": [
        "def indicacoes_acao(lista):\n",
        "  print('\\nFilmes de ação (2022):\\n')\n",
        "  for filme in acao_2022:\n",
        "    print(f'- {filme}')"
      ],
      "metadata": {
        "id": "1StX1Zd4ml55"
      },
      "execution_count": 3,
      "outputs": []
    },
    {
      "cell_type": "code",
      "source": [
        "# Apresentando os filmes da lista\n",
        "indicacoes_acao(acao_2022)"
      ],
      "metadata": {
        "colab": {
          "base_uri": "https://localhost:8080/"
        },
        "id": "MF1Nif-Fmngx",
        "outputId": "9e07ac9d-3b82-48be-c6d5-3a9403f94b58"
      },
      "execution_count": 4,
      "outputs": [
        {
          "output_type": "stream",
          "name": "stdout",
          "text": [
            "\n",
            "Filmes de ação (2022):\n",
            "\n",
            "- O Predador: A Caçada\n",
            "- Top Gun: Maverick\n",
            "- Doutor Estranho no Multiverso da Loucura\n",
            "- RRR: Revolta, Rebelião, Revolução\n",
            "- Uncharted: Fora do Mapa\n",
            "- O Projeto Adam\n",
            "- Thor: Amor e Trovão\n",
            "- Lightyear\n",
            "- O Homem do Norte\n",
            "- Batman\n"
          ]
        }
      ]
    },
    {
      "cell_type": "code",
      "source": [
        "from random import randrange"
      ],
      "metadata": {
        "id": "zu4AQSmbm5pS"
      },
      "execution_count": 5,
      "outputs": []
    },
    {
      "cell_type": "code",
      "source": [
        "# Função que escolhe um filme da lista\n",
        "\n",
        "def escolhe_filme(lista):\n",
        "  escolha = randrange(0, 10)\n",
        "  print('Filme escolhido:')\n",
        "  print(lista[escolha])"
      ],
      "metadata": {
        "id": "Byj1JPW47RWD"
      },
      "execution_count": 6,
      "outputs": []
    },
    {
      "cell_type": "code",
      "source": [
        "escolhe_filme(acao_2022)"
      ],
      "metadata": {
        "colab": {
          "base_uri": "https://localhost:8080/"
        },
        "id": "CYHRtpF_7fd_",
        "outputId": "759ed70c-a8a8-46bc-b896-94fef25e4d6a"
      },
      "execution_count": 7,
      "outputs": [
        {
          "output_type": "stream",
          "name": "stdout",
          "text": [
            "Filme escolhido:\n",
            "Batman\n"
          ]
        }
      ]
    },
    {
      "cell_type": "markdown",
      "source": [
        "Ao pesquisar 'filme+2022+aventura' no [Google](https://www.google.com/search?q=filme%2B2022%2Bfantasia&rlz=1C1GCEA_enBR852BR852&ei=RlqLY_eKLs7E5OUPrqCZyAQ&ved=0ahUKEwj3xYjS0d37AhVOIrkGHS5QBkkQ4dUDCA8&uact=5&oq=filme%2B2022%2Bfantasia&gs_lcp=Cgxnd3Mtd2l6LXNlcnAQAzIGCAAQCBAeOgoIABBHENYEELADOgQIABAeOgYIABAeEApKBAhBGABKBAhGGABQ3AhY3xJg5xtoAnABeACAAZUBiAHyB5IBAzAuOJgBAKABAcgBCMABAQ&sclient=gws-wiz-serp#wvs=q:aventura%2520filme%252B2022%252B,stick:H4sIAAAAAAAAAN2UPW_TUBSGCU3a1GlF6hapCgiqIDHQIfZ1YsfdysdGhVS6IivxZ-x7b-x7jWNHTEgssLHC1JmBjYU_wB-ArQMDAlYQYmCgaX2cJoKBlSl5fK_ec973-Lha-Vj6XKrVv_w8Wm8clZ6_eve-9KEkrNzuxfa-zWM2MGPxulCesHileVkQhaXqpwv10mZJPPmzsnm1udgoIwkh8VlJqN2344Ph3tAaOJn4SBwL9bvDIbdxtm_jYwnrYCheExbv0HgQZ-JqoyYst0hLUgLd8RvCTnU3sWn8kPXE3VklJErC8p5N-jbj95xjCeHWEGPbjAdDKl5srAtrLbN40HIGmPDm2tcnL3_VzlZYOVx4syic9vrPeo2lyY-9vd08Ebix2nJbshymFHO3E-foUE33AhXnSAl3ukkUAmaJb0QSyzGWlA5LMJ6eYl2z4JSPLYe5Ds_RV2lgBHEH0CQqSg0nR-wp1LdG4xxZiOKAGQEop6ZhqGkCl9u6F4apnmOEun0UawSUCZM6kUYBNawblFnTQr7uKd5USpGS0IS63TFWAiYDUg1jpw1deaGsaNSFrFjaHoeOX7TRNp1OworLGTMTNupDGiQKrDiRAEeebCiRCk0mXQV13QiGYnLSxwrMiCTUy8w-5BwZCOlUVoucTT8wkQunWl9XpRjSYDzpU0UHZU-XMemOIByGNBepXlg4SuOIsi6E022PIxVbRbB8xLwIDDp8hNIsnNpXNd2XoW6YmCMjoQZMUJdJlo4yQDcLPUuCKVgp6Xt6BlM4boGjgMNlZnU83yGFo7GiJDSDGYVtQ1Nou8g59EJMIg0sYKRz34qkc4cLPxaE6X7-t9-IxkYv19863fdJ19vN6YW_bPrsas-9Y3OznpvX3DdkfrXnVmx-a2ZeG5j1zsak7a3CChkmA5vf3DybALGtQc9wbcps_sB_cWn38be336tr1bK4eiaPeuVpedYxMFgGBs_F_dw0MLgGBtvA4BsYjAOD86Jebr04z70fVv44wteV878BbDpck-0GAAA,nfpr:1&wxpd=:true), selecionei os 10 primeiros para compor a próxima lista:\n",
        "\n",
        "- Adão Negro\n",
        "- Terra dos Sonhos\n",
        "- Luck\n",
        "- Samaritano\n",
        "- Monster High: O Filme\n",
        "- Pinóquio\n",
        "- Desencantada\n",
        "- The School for Good and Evil\n",
        "- O Telefone do Sr. Harrigan\n",
        "- Morbius"
      ],
      "metadata": {
        "id": "A_V6EaRZnLXc"
      }
    },
    {
      "cell_type": "code",
      "source": [
        "fantasia_2022 = ['Adão Negro', 'Terra dos Sonhos', 'Luck', \n",
        "                 'Samaritano', 'Monster High: O Filme', \n",
        "                 'Pinóquio', 'Desencantada', \n",
        "                 'The School for Good and Evil', \n",
        "                 'O Telefone do Sr. Harrigan', 'Morbius']"
      ],
      "metadata": {
        "id": "xJTj5n4rmtOK"
      },
      "execution_count": 8,
      "outputs": []
    },
    {
      "cell_type": "code",
      "source": [
        "escolhe_filme(fantasia_2022)"
      ],
      "metadata": {
        "colab": {
          "base_uri": "https://localhost:8080/"
        },
        "id": "eW75BwvXnTMS",
        "outputId": "365d6a15-ddf2-4e90-eb98-2a4c058ff670"
      },
      "execution_count": 9,
      "outputs": [
        {
          "output_type": "stream",
          "name": "stdout",
          "text": [
            "Filme escolhido:\n",
            "Desencantada\n"
          ]
        }
      ]
    },
    {
      "cell_type": "markdown",
      "source": [
        "Ainda nessa página, retirei a seleção em 'aventura' e passei para '[Mistério](https://www.google.com/search?q=filme%2B2022%2Bfantasia&rlz=1C1GCEA_enBR852BR852&ei=RlqLY_eKLs7E5OUPrqCZyAQ&ved=0ahUKEwj3xYjS0d37AhVOIrkGHS5QBkkQ4dUDCA8&uact=5&oq=filme%2B2022%2Bfantasia&gs_lcp=Cgxnd3Mtd2l6LXNlcnAQAzIGCAAQCBAeOgoIABBHENYEELADOgQIABAeOgYIABAeEApKBAhBGABKBAhGGABQ3AhY3xJg5xtoAnABeACAAZUBiAHyB5IBAzAuOJgBAKABAcgBCMABAQ&sclient=gws-wiz-serp#wvs=q:mist%25C3%25A9rio%2520filme%252B2022%252B,stick:H4sIAAAAAAAAAN2UPWzTQBTHCU0_cFpaXFWqIgRVkBjoEPuc2DETnxsVEnRFVuNv--5i350cOxJCQmJhYGBm6obEwMbCxsTAyoQYQEICiakMDAz0w89togrEyuT8cqf_e___8_Pc9Kfa91pj6evPj8vNz7WnL96-r32oSfM3toR7x-WChbaQL0r1PZbPtc5KsjQ792VxqbZak_d_zK-eb80060hBSH5Skxp3XbE52Bg4oVfID-T70tKtwYC7uLjj4l0JZ3OwqzZzk4pQFPJic0FqtElbUVXTzJWi2bh8aiPk4s1zFg7kq-NiSFakUxsu6buM3_bkC5J0fYCxa4twQOWV5rJ0pm1Xf7S9EBPeWv726NmvxniR-e2pVzPSQcP_rNic3Xu46-utfYFLC22_rapJTjH3u6JEjxpmEOu4REq418vSBLDIIitVWIlC0bosw_jwFJuGA6d85HjM93iJkU5jKxZdQJvoKLe8EnGg0cgZjkpkCRIxs2JQzm3L0vMMLnfMIElys8QU9fpIGASUCVO6qUEBDWxalDmHhSIz0IJDKU3JEhvq9kZYi5kKSA2MvQ50FSSqZlAfsmJ5Z5R4UdVGx_a6GasuF8zO2LAPaZA0dkSmAA4D1dJSHZrMehrq-SkMxeakjzWYEcloUNh9yDm1EDKpqlc521FsIx9Ojb6pKwLSYDzrU80E5cBUMekNIRyGDB_pQVI5ykVKWQ_C6XVGqY6dKlg-ZEEKBj0-RHmRHNrXDTNSoW6S2UMroxZM0FRJkQ8LQL9IAkeBKTg56QdmAVPYbYGjmMNl5nSDyCOVo5GmZbSAGSUdy9Bop8o5CRJMUgMsYGTyyEmVE9tTj-vSkRX9v78UzRUCJdYO1n6v9_XW0TvHL-bEJk68e3_e8YlN_Muuja_PxIJMvDAw5cun93yskYILl4Uuv7Z6NA_iOuGW5buUufzezrvFKw93Xv-YW56ry4tj6SwtPK6PmwcG98BgHxj8A0MAwJDAEb39CCouMwCGECq9MoWqXhkDMOSwPX38gF9On_wNhuQr-BcHAAA,nfpr:1&wxpd=:true)'. Os 10 primeiros foram:\n",
        "\n",
        "- Morte no Nilo\n",
        "- Um Lugar Bem Longe Daqui\n",
        "- Naquele Fim de Semana\n",
        "- Águas Profundas\n",
        "- Enola Holmes 2\n",
        "- Luckiest Girl Alive\n",
        "- Filhos do Privilégio\n",
        "- Órfã 2: A Origem\n",
        "- Fantasmas do Passado\n",
        "- Pânico 5"
      ],
      "metadata": {
        "id": "LyXksLAknjOj"
      }
    },
    {
      "cell_type": "code",
      "source": [
        "misterio_2022 = ['Morte no Nilo', 'Um Lugar Bem Longe Daqui', 'Naquele Fim de Semana', \n",
        "                 'Águas Profundas', 'Enola Holmes 2', 'Luckiest Girl Alive', \n",
        "                 'Filhos do Privilégio', 'Órfã 2: A Origem', 'Fantasmas do Passado', 'Pânico 5']\n",
        "\n",
        "escolhe_filme(misterio_2022)"
      ],
      "metadata": {
        "colab": {
          "base_uri": "https://localhost:8080/"
        },
        "id": "idzr-ndYngbK",
        "outputId": "dbe04570-48fb-4445-f035-94200a2080f5"
      },
      "execution_count": 10,
      "outputs": [
        {
          "output_type": "stream",
          "name": "stdout",
          "text": [
            "Filme escolhido:\n",
            "Morte no Nilo\n"
          ]
        }
      ]
    },
    {
      "cell_type": "markdown",
      "source": [
        "E os 10 primeiros filme de '[Drama](https://www.google.com/search?q=filme%2B2022%2Bfantasia&rlz=1C1GCEA_enBR852BR852&ei=RlqLY_eKLs7E5OUPrqCZyAQ&ved=0ahUKEwj3xYjS0d37AhVOIrkGHS5QBkkQ4dUDCA8&uact=5&oq=filme%2B2022%2Bfantasia&gs_lcp=Cgxnd3Mtd2l6LXNlcnAQAzIGCAAQCBAeOgoIABBHENYEELADOgQIABAeOgYIABAeEApKBAhBGABKBAhGGABQ3AhY3xJg5xtoAnABeACAAZUBiAHyB5IBAzAuOJgBAKABAcgBCMABAQ&sclient=gws-wiz-serp#wvs=q:drama%2520filme%252B2022%252B,stick:H4sIAAAAAAAAAN2Uv28URxTHOeyznbUjzmtZsk5RQAeiwIV3Z-_2Bx3gdLGQwC1aeX_f7uzc7sxqfxxKEykNoqKmck1BR5N_IP9AKoSiREJKJCooKFLEZ88b4wkNLdXe997sm_fe5313rf9n711vffD3xzdbw796z1789nvvdU_Z2D-qwgchq-jUr9SbyvJCq9-PvlNUZXXt7ZVBb6ennv7Y2Lk6WhkuIw0h9WlPWX8YVoezg1kwjTr1J_WxMvhxNmMh7h6E-CRFcDhTbygrP5BqWnXq5vCK8u1evKfrXhMUcWpXw9Xb_X16lB-pdy6mQqqmfHMQ5l5I2f1Iva4o92YYh341nRF1e7ilbO754o-9aIpzNtr-55fn_67LV2wcL71aUc4K_uKcw9XFI9zdHZ0muHWWumgJZvGk4jIilpNkJuaS5Cyy67IA2dWpW2qUy0ozJrTG-DyKHSuAKJsHEY0jxmVqkszNqglIPzdR60Zc4sQgadDMuaQFqjLqZpC59V3XbGs4PHaSomgdLktke6iycsicU21SWgSkhR2X0OD8otRJjOQ8laHVhQ_32nNsZFQHSSyMozFUlRS6YZEYZkXb8byIUlHG2I8mNRWHO-rXtPFgGnmZBVWtgWwS3TVKE4qsbQPZcQlQfJZ72ABGeU2SzvdgzqWLkEN0U8zZTzMfxRC1PMfUKpgGZbVHDAcyJ46Oc7uB4VBkxchMCtFRW5WE2jAcezwvTRyIwbKGJiU0GLEGtV1x3r5pOakO9xa137g1cYGgo-dd23Qg465IAg0oBG3uJU4HFE5KYChjcJgGkySNctHR3DBq0gGjYuxaBhmLORdJgfPSghYwclgalNql46UnfYUb9Ov-Sgw3g8UF187svqh7d3TxxOfNLnlQMqxkOnm9L-6zZFhpCaVtl5ZQWhWJvuRfybCA-_N7JW2s5AXpQyG5Gzx4e30x0GunE2Z3dz5lkofB9MiNQ0JD9ujxHzfu_fz-1w9r22vL6qZEaNB_snwRAWhgABogiDinABowgAYOoAEEaCAh8nMUIs5ZiPc5DBHnND6p9xSHiHMeIs6BgAYion-ORPTDmYj6OBSRn1MBDViO-_9f-pf9y_8BlLPoEiMIAAA,nfpr:1&wxpd=:true)', são:\n",
        "- A Mulher Rei\n",
        "- Um Lugar Bem Longe Daqui\n",
        "- Ainda Estou Aqui\n",
        "- A Máquina Infernal\n",
        "- Passagem\n",
        "- Athena\n",
        "- Luta pela Fé - A História do Padre Stu\n",
        "- Amor de Redenção\n",
        "- Não Se Preocupe, Querida\n",
        "- Nada de Novo no Front"
      ],
      "metadata": {
        "id": "fODMY8C-oxsp"
      }
    },
    {
      "cell_type": "code",
      "source": [
        "drama_2022 = ['A Mulher Rei', 'Um Lugar Bem Longe Daqui', 'Ainda Estou Aqui', 'A Máquina Infernal',\n",
        "              'Passagem', 'Athena', 'Luta pela Fé - A História do Padre Stu', 'Amor de Redenção',\n",
        "              'Não Se Preocupe, Querida', 'Nada de Novo no Front']\n",
        "\n",
        "escolhe_filme(drama_2022)"
      ],
      "metadata": {
        "colab": {
          "base_uri": "https://localhost:8080/"
        },
        "id": "9KGd2qMfqLNO",
        "outputId": "25b24ee6-26b0-49ab-9690-aba0fbe3593e"
      },
      "execution_count": 11,
      "outputs": [
        {
          "output_type": "stream",
          "name": "stdout",
          "text": [
            "Filme escolhido:\n",
            "Amor de Redenção\n"
          ]
        }
      ]
    },
    {
      "cell_type": "code",
      "source": [
        "filmes_de_2022 = [acao_2022, fantasia_2022, misterio_2022, drama_2022]\n",
        "filmes_de_2022"
      ],
      "metadata": {
        "colab": {
          "base_uri": "https://localhost:8080/"
        },
        "id": "2ve8w3ipquQ6",
        "outputId": "c7aaa6cf-0e63-48ac-85e7-8c41a4cbd27e"
      },
      "execution_count": 12,
      "outputs": [
        {
          "output_type": "execute_result",
          "data": {
            "text/plain": [
              "[['O Predador: A Caçada',\n",
              "  'Top Gun: Maverick',\n",
              "  'Doutor Estranho no Multiverso da Loucura',\n",
              "  'RRR: Revolta, Rebelião, Revolução',\n",
              "  'Uncharted: Fora do Mapa',\n",
              "  'O Projeto Adam',\n",
              "  'Thor: Amor e Trovão',\n",
              "  'Lightyear',\n",
              "  'O Homem do Norte',\n",
              "  'Batman'],\n",
              " ['Adão Negro',\n",
              "  'Terra dos Sonhos',\n",
              "  'Luck',\n",
              "  'Samaritano',\n",
              "  'Monster High: O Filme',\n",
              "  'Pinóquio',\n",
              "  'Desencantada',\n",
              "  'The School for Good and Evil',\n",
              "  'O Telefone do Sr. Harrigan',\n",
              "  'Morbius'],\n",
              " ['Morte no Nilo',\n",
              "  'Um Lugar Bem Longe Daqui',\n",
              "  'Naquele Fim de Semana',\n",
              "  'Águas Profundas',\n",
              "  'Enola Holmes 2',\n",
              "  'Luckiest Girl Alive',\n",
              "  'Filhos do Privilégio',\n",
              "  'Órfã 2: A Origem',\n",
              "  'Fantasmas do Passado',\n",
              "  'Pânico 5'],\n",
              " ['A Mulher Rei',\n",
              "  'Um Lugar Bem Longe Daqui',\n",
              "  'Ainda Estou Aqui',\n",
              "  'A Máquina Infernal',\n",
              "  'Passagem',\n",
              "  'Athena',\n",
              "  'Luta pela Fé - A História do Padre Stu',\n",
              "  'Amor de Redenção',\n",
              "  'Não Se Preocupe, Querida',\n",
              "  'Nada de Novo no Front']]"
            ]
          },
          "metadata": {},
          "execution_count": 12
        }
      ]
    },
    {
      "cell_type": "code",
      "source": [
        "# Escolhendo uma lista de filme (ação, fantasia, mistério, drama)\n",
        "\n",
        "def seleciona_lista(lista):\n",
        "  categoria = randrange(0, 4)\n",
        "  print(f'Categoria escolhida: {categoria}')\n",
        "  print(lista[categoria])"
      ],
      "metadata": {
        "id": "iuC8Em5x6EjQ"
      },
      "execution_count": 13,
      "outputs": []
    },
    {
      "cell_type": "code",
      "source": [
        "seleciona_lista(filmes_de_2022)"
      ],
      "metadata": {
        "colab": {
          "base_uri": "https://localhost:8080/"
        },
        "id": "Ab19lpTk6w2N",
        "outputId": "2f5fb296-6e53-4734-ccdb-6ccae49a85da"
      },
      "execution_count": 14,
      "outputs": [
        {
          "output_type": "stream",
          "name": "stdout",
          "text": [
            "Categoria escolhida: 2\n",
            "['Morte no Nilo', 'Um Lugar Bem Longe Daqui', 'Naquele Fim de Semana', 'Águas Profundas', 'Enola Holmes 2', 'Luckiest Girl Alive', 'Filhos do Privilégio', 'Órfã 2: A Origem', 'Fantasmas do Passado', 'Pânico 5']\n"
          ]
        }
      ]
    },
    {
      "cell_type": "code",
      "source": [
        "# Escolhendo uma lista e um filme\n",
        "\n",
        "def lista_e_filme(lista):\n",
        "  categoria = randrange(0, 4)\n",
        "  print(f'Categoria escolhida: {categoria}')\n",
        "  filme_escolhido = randrange(0, 10)\n",
        "  print(lista[categoria][filme_escolhido])"
      ],
      "metadata": {
        "id": "6BO1Lkrh-BQT"
      },
      "execution_count": 15,
      "outputs": []
    },
    {
      "cell_type": "code",
      "source": [
        "lista_e_filme(filmes_de_2022)"
      ],
      "metadata": {
        "colab": {
          "base_uri": "https://localhost:8080/"
        },
        "id": "mYyOYAbnCXQi",
        "outputId": "d976642d-66b2-433a-bf74-b078e5f5dbd3"
      },
      "execution_count": 16,
      "outputs": [
        {
          "output_type": "stream",
          "name": "stdout",
          "text": [
            "Categoria escolhida: 2\n",
            "Filhos do Privilégio\n"
          ]
        }
      ]
    },
    {
      "cell_type": "code",
      "source": [],
      "metadata": {
        "id": "diI3I4OPCary"
      },
      "execution_count": 16,
      "outputs": []
    }
  ]
}