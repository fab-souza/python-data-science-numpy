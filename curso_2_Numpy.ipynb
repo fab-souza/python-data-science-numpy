{
  "nbformat": 4,
  "nbformat_minor": 0,
  "metadata": {
    "colab": {
      "provenance": []
    },
    "kernelspec": {
      "name": "python3",
      "display_name": "Python 3"
    },
    "language_info": {
      "name": "python"
    }
  },
  "cells": [
    {
      "cell_type": "code",
      "source": [
        "import numpy as np"
      ],
      "metadata": {
        "id": "diI3I4OPCary"
      },
      "execution_count": 17,
      "outputs": []
    },
    {
      "cell_type": "code",
      "source": [
        "# Array com as notas registradas no IMDb dos filmes\n",
        "\n",
        "\"\"\"\n",
        "O Predador: A Caçada\n",
        "Top Gun: Maverick\n",
        "Doutor Estranho no Multiverso da Loucura\n",
        "RRR: Revolta, Rebelião, Revolução\n",
        "Uncharted: Fora do Mapa\n",
        "O Projeto Adam\n",
        "Thor: Amor e Trovão\n",
        "Lightyear\n",
        "O Homem do Norte\n",
        "Batman\n",
        "\"\"\"\n",
        "acao_2022_imdb = [7.2, 8.4, 6.9, 8.0, 6.3, 6.7, 6.3, 6.0, 7.1, 7.9]\n",
        "\n",
        "\n",
        "\"\"\"\n",
        "Adão Negro\n",
        "Terra dos Sonhos\n",
        "Luck\n",
        "Samaritano\n",
        "Monster High: O Filme\n",
        "Pinóquio\n",
        "Desencantada\n",
        "The School for Good and Evil\n",
        "O Telefone do Sr. Harrigan\n",
        "Morbius\n",
        "\"\"\"\n",
        "fantasia_2022_imdb = [6.7, 6.7, 6.4, 5.7, 4.8, 5.1, 5.7, 5.8, 6.0, 5.2]\n",
        "\n",
        "\n",
        "\"\"\"\n",
        "Morte no Nilo\n",
        "Um Lugar Bem Longe Daqui\n",
        "Naquele Fim de Semana\n",
        "Águas Profundas\n",
        "Enola Holmes 2\n",
        "Luckiest Girl Alive\n",
        "Filhos do Privilégio\n",
        "Órfã 2: A Origem\n",
        "Fantasmas do Passado\n",
        "Pânico 5\n",
        "\"\"\"\n",
        "misterio_2022_imdb = [6.3, 7.1, 5.6, 5.4, 6.8, 6.4, 4.7, 5.9, 5.2, 6.3]\n",
        "\n",
        "\n",
        "\"\"\"\n",
        "A Mulher Rei\n",
        "Um Lugar Bem Longe Daqui\n",
        "Ainda Estou Aqui\n",
        "A Máquina Infernal\n",
        "Passagem\n",
        "Athena\n",
        "Luta pela Fé - A História do Padre Stu\n",
        "Amor de Redenção\n",
        "Não Se Preocupe, Querida\n",
        "Nada de Novo no Front\n",
        "\"\"\"\n",
        "drama_2022_imdb = [6.7, 7.1, 5.9, 5.2, 6.5, 6.8, 6.5, 6.7, 6.2, 7.8]"
      ],
      "metadata": {
        "id": "Ki-Js2MAJbzH"
      },
      "execution_count": 18,
      "outputs": []
    },
    {
      "cell_type": "code",
      "source": [
        "len(acao_2022_imdb)"
      ],
      "metadata": {
        "colab": {
          "base_uri": "https://localhost:8080/"
        },
        "id": "TyO_ZmSHjC1B",
        "outputId": "11048063-33fe-46a8-8791-e1e14e0b43d0"
      },
      "execution_count": 32,
      "outputs": [
        {
          "output_type": "execute_result",
          "data": {
            "text/plain": [
              "10"
            ]
          },
          "metadata": {},
          "execution_count": 32
        }
      ]
    },
    {
      "cell_type": "code",
      "source": [
        "# Função para calcular a média das notas\n",
        "\n",
        "def calcula_media(notas):\n",
        "  soma = 0\n",
        "  total_de_notas = len(notas)\n",
        "  for nota in notas:\n",
        "    soma += nota\n",
        "  media = soma / total_de_notas\n",
        "  print(f'Média dos filmes é de {media}')"
      ],
      "metadata": {
        "id": "dihiuhX9jSiy"
      },
      "execution_count": 33,
      "outputs": []
    },
    {
      "cell_type": "code",
      "source": [
        "calcula_media(acao_2022_imdb)"
      ],
      "metadata": {
        "colab": {
          "base_uri": "https://localhost:8080/"
        },
        "id": "6IJaYUiOkP8q",
        "outputId": "a30ec679-80a8-4cd1-8545-186b28015bdb"
      },
      "execution_count": 35,
      "outputs": [
        {
          "output_type": "stream",
          "name": "stdout",
          "text": [
            "Média dos filmes é de 7.08\n"
          ]
        }
      ]
    },
    {
      "cell_type": "code",
      "source": [
        "# Se é um problema comum, deve haver uma solução:\n",
        "\n",
        "np.mean(acao_2022_imdb)"
      ],
      "metadata": {
        "colab": {
          "base_uri": "https://localhost:8080/"
        },
        "id": "WDcxZZurihk5",
        "outputId": "a701d994-fb33-4f70-e7a4-24eba2dba58b"
      },
      "execution_count": 37,
      "outputs": [
        {
          "output_type": "execute_result",
          "data": {
            "text/plain": [
              "7.08"
            ]
          },
          "metadata": {},
          "execution_count": 37
        }
      ]
    },
    {
      "cell_type": "code",
      "source": [
        "np.mean(fantasia_2022_imdb)"
      ],
      "metadata": {
        "colab": {
          "base_uri": "https://localhost:8080/"
        },
        "id": "t0-6kS-mzOrg",
        "outputId": "775ce733-4ad3-4272-952d-ede133500680"
      },
      "execution_count": 38,
      "outputs": [
        {
          "output_type": "execute_result",
          "data": {
            "text/plain": [
              "5.8100000000000005"
            ]
          },
          "metadata": {},
          "execution_count": 38
        }
      ]
    },
    {
      "cell_type": "code",
      "source": [
        "np.mean(misterio_2022_imdb)"
      ],
      "metadata": {
        "colab": {
          "base_uri": "https://localhost:8080/"
        },
        "id": "yUz3BAspzTcL",
        "outputId": "cffa48d6-0c1b-4955-8400-7152e9adbc63"
      },
      "execution_count": 39,
      "outputs": [
        {
          "output_type": "execute_result",
          "data": {
            "text/plain": [
              "5.970000000000001"
            ]
          },
          "metadata": {},
          "execution_count": 39
        }
      ]
    },
    {
      "cell_type": "code",
      "source": [
        "np.mean(drama_2022_imdb)"
      ],
      "metadata": {
        "colab": {
          "base_uri": "https://localhost:8080/"
        },
        "id": "5r3XN2CVzWIt",
        "outputId": "35844ec6-50c1-4594-aab8-04f7f3b1503b"
      },
      "execution_count": 40,
      "outputs": [
        {
          "output_type": "execute_result",
          "data": {
            "text/plain": [
              "6.540000000000001"
            ]
          },
          "metadata": {},
          "execution_count": 40
        }
      ]
    },
    {
      "cell_type": "code",
      "source": [
        "imdb = np.array([acao_2022_imdb, fantasia_2022_imdb, misterio_2022_imdb, drama_2022_imdb])"
      ],
      "metadata": {
        "id": "BxLdmpzdfbZh"
      },
      "execution_count": 29,
      "outputs": []
    },
    {
      "cell_type": "code",
      "source": [
        "imdb.shape"
      ],
      "metadata": {
        "colab": {
          "base_uri": "https://localhost:8080/"
        },
        "id": "x8kCrfXVhTEQ",
        "outputId": "79fae805-8cd6-4a13-9a2c-4609fa58874c"
      },
      "execution_count": 31,
      "outputs": [
        {
          "output_type": "execute_result",
          "data": {
            "text/plain": [
              "(4, 10)"
            ]
          },
          "metadata": {},
          "execution_count": 31
        }
      ]
    },
    {
      "cell_type": "code",
      "source": [
        "# média das linhas\n",
        "\n",
        "np.mean(imdb, axis = 1)"
      ],
      "metadata": {
        "colab": {
          "base_uri": "https://localhost:8080/"
        },
        "id": "QJF451bKzfbV",
        "outputId": "e0f5921d-7551-4172-b073-65a97869a828"
      },
      "execution_count": 42,
      "outputs": [
        {
          "output_type": "execute_result",
          "data": {
            "text/plain": [
              "array([7.08, 5.81, 5.97, 6.54])"
            ]
          },
          "metadata": {},
          "execution_count": 42
        }
      ]
    },
    {
      "cell_type": "code",
      "source": [
        "# média das colunas\n",
        "\n",
        "np.mean(imdb, axis = 0)"
      ],
      "metadata": {
        "colab": {
          "base_uri": "https://localhost:8080/"
        },
        "id": "AVSFNE6a3qk0",
        "outputId": "9d9ffa74-42a5-413a-dd61-d4797bedea29"
      },
      "execution_count": 43,
      "outputs": [
        {
          "output_type": "execute_result",
          "data": {
            "text/plain": [
              "array([6.725, 7.325, 6.2  , 6.075, 6.1  , 6.25 , 5.8  , 6.1  , 6.125,\n",
              "       6.8  ])"
            ]
          },
          "metadata": {},
          "execution_count": 43
        }
      ]
    },
    {
      "cell_type": "code",
      "source": [
        "type(imdb)"
      ],
      "metadata": {
        "colab": {
          "base_uri": "https://localhost:8080/"
        },
        "id": "k3yDI00-hQw5",
        "outputId": "58269964-50cf-4de8-caad-49fb7729d62d"
      },
      "execution_count": 30,
      "outputs": [
        {
          "output_type": "execute_result",
          "data": {
            "text/plain": [
              "numpy.ndarray"
            ]
          },
          "metadata": {},
          "execution_count": 30
        }
      ]
    },
    {
      "cell_type": "code",
      "source": [],
      "metadata": {
        "id": "dPV4NSK1zIc6"
      },
      "execution_count": null,
      "outputs": []
    }
  ]
}